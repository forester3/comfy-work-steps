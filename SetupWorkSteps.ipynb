{
 "cells": [
  {
   "cell_type": "code",
   "execution_count": 3,
   "id": "e9ce6b6e-116d-4af0-a6a1-4d3a372ffc3b",
   "metadata": {},
   "outputs": [
    {
     "name": "stdout",
     "output_type": "stream",
     "text": [
      "GitHubからNotebook群をクローンしています...\n",
      "/teamspace/studios/this_studio\n",
      "Cloning into 'comfy-work-steps'...\n",
      "\n",
      "✅ ComfyUIワークステップのclone完了\n"
     ]
    }
   ],
   "source": [
    "import os\n",
    "\n",
    "# GitHubリポジトリ情報\n",
    "GIT_USER = \"forester3\"\n",
    "GIT_REPO = \"comfy-work-steps\"\n",
    "REPO_URL = f\"https://github.com/{GIT_USER}/{GIT_REPO}.git\"\n",
    "\n",
    "# === clone先ディレクトリを初期化（存在していたら削除） ===\n",
    "if os.path.isdir(GIT_REPO):\n",
    "    print(f\"{GIT_REPO} フォルダが既に存在するため削除します...\")\n",
    "    !rm -rf {GIT_REPO}\n",
    "\n",
    "print(\"GitHubからNotebook群をクローンしています...\")\n",
    "%cd ~/\n",
    "!git clone --depth=1 {REPO_URL}\n",
    "\n",
    "# === main_UI.ipynb を上書きコピー ===\n",
    "!cp -f {GIT_REPO}/main_UI.ipynb ./main_UI.ipynb\n",
    "\n",
    "# === ComfyNotebooks をネストさせずに上書きコピー ===\n",
    "!mkdir -p ComfyNotebooks\n",
    "!cp -rf {GIT_REPO}/ComfyNotebooks/* ./ComfyNotebooks/\n",
    "\n",
    "# === クローン元リポジトリは削除して後始末 ===\n",
    "!rm -rf {GIT_REPO}\n",
    "\n",
    "print(\"✅ ComfyUIワークステップのclone完了\")\n"
   ]
  },
  {
   "cell_type": "code",
   "execution_count": null,
   "id": "78b18cb9-1438-4b0f-810a-3b299793e1bb",
   "metadata": {},
   "outputs": [],
   "source": []
  }
 ],
 "metadata": {
  "kernelspec": {
   "display_name": "Python 3",
   "language": "python",
   "name": "python3"
  },
  "language_info": {
   "codemirror_mode": {
    "name": "ipython",
    "version": 3
   },
   "file_extension": ".py",
   "mimetype": "text/x-python",
   "name": "python",
   "nbconvert_exporter": "python",
   "pygments_lexer": "ipython3",
   "version": "3.10.10"
  }
 },
 "nbformat": 4,
 "nbformat_minor": 5
}
