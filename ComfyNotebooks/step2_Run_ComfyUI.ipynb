{
 "cells": [
  {
   "cell_type": "markdown",
   "id": "0",
   "metadata": {},
   "source": [
    "## ComfyUI起動"
   ]
  },
  {
   "cell_type": "code",
   "execution_count": null,
   "id": "1",
   "metadata": {},
   "outputs": [],
   "source": [
    "!pip install python-dotenv\n",
    "\n",
    "import os\n",
    "import socket\n",
    "import time\n",
    "from dotenv import load_dotenv\n",
    "\n",
    "def wait_for_port(host, port, timeout=20):\n",
    "    start_time = time.time()\n",
    "    while time.time() - start_time < timeout:\n",
    "        with socket.socket(socket.AF_INET, socket.SOCK_STREAM) as s:\n",
    "            try:\n",
    "                s.connect((host, port))\n",
    "                return True\n",
    "            except (ConnectionRefusedError, OSError):\n",
    "                time.sleep(0.5)\n",
    "    return False\n",
    "\n",
    "# よく使うVAEをダウンロード\n",
    "%cd ~/ComfyUI/models/vae\n",
    "!wget -nc 'https://huggingface.co/stabilityai/sd-vae-ft-mse-original/resolve/main/vae-ft-mse-840000-ema-pruned.safetensors'\n",
    "\n",
    "# 2. ffxvsのネガティブプロンプトパックをクローン\n",
    "%cd ~/\n",
    "!git clone https://huggingface.co/ffxvs/negative-prompts-pack\n",
    "%cd negative-prompts-pack\n",
    "!git lfs pull\n",
    "\n",
    "# 3. ComfyUIのembeddingフォルダへコピー\n",
    "!mkdir -p ~/ComfyUI/models/embeddings/SD1.5\n",
    "!mv *.pt *.safetensors ~/ComfyUI/models/embeddings/SD1.5\n",
    "\n",
    "# 4. cloneしたリポジトリを削除して後始末\n",
    "%cd ~/\n",
    "!rm -rf negative-prompts-pack\n",
    "\n",
    "import subprocess\n",
    "\n",
    "if CLOUD_GPU == \"LightningAI\":\n",
    "    subprocess.Popen([\"python\", \"ComfyUI/main.py\", \"--port\", \"7860\"])\n",
    "    print(\"✅ ComfyUI 起動完了\")\n",
    "    print(\"また10分以内に KeepAlive.ipynb を実行してください。\")\n",
    "    \n",
    "# cloudflaredインストール\n",
    "    !wget -q -nc -O cloudflared https://github.com/cloudflare/cloudflared/releases/latest/download/cloudflared-linux-amd64\n",
    "    !chmod +x cloudflared\n",
    "\n",
    "    if wait_for_port(\"127.0.0.1\", 7860):\n",
    "        print(\"ComfyUI が起動してポートをListenしています。\")\n",
    "    else:\n",
    "        print(\"ポート7860に接続できません。起動に失敗している可能性があります。\")\n",
    "\n",
    "    load_dotenv(os.path.expanduser(\"~/.env\"))\n",
    "    TOKEN = os.getenv(\"CLOUDFLARED_TOKEN\")\n",
    "\n",
    "    if not TOKEN:\n",
    "        raise ValueError(\"CLOUDFLARED_TOKEN が取得できませんでした。.env を確認してください。\")\n",
    "\n",
    "    subprocess.Popen([\"./cloudflared\", \"tunnel\", \"run\", \"--token\", TOKEN ])\n",
    "    print(\"✅ cloudflared tunnel 起動完了\")\n",
    "\n",
    "elif CLOUD_GPU == \"RunPod\":\n",
    "    subprocess.Popen([\"python\", \"main.py\", \"--listen\", \"--port\", \"3000\"], cwd=\"/ComfyUI\")\n"
   ]
  }
 ],
 "metadata": {
  "kernelspec": {
   "display_name": "Python 3 (ipykernel)",
   "language": "python",
   "name": "python3"
  },
  "language_info": {
   "codemirror_mode": {
    "name": "ipython",
    "version": 3
   },
   "file_extension": ".py",
   "mimetype": "text/x-python",
   "name": "python",
   "nbconvert_exporter": "python",
   "pygments_lexer": "ipython3",
   "version": "3.12.3"
  }
 },
 "nbformat": 4,
 "nbformat_minor": 5
}
