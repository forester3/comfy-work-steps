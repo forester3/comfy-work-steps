{
 "cells": [
  {
   "cell_type": "code",
   "execution_count": null,
   "id": "0",
   "metadata": {},
   "outputs": [],
   "source": [
    "import sys\n",
    "\n",
    "sys.path.append(\"./ImageGenSupporter\")\n",
    "from ImageGenSupporter import model_download_list_ids\n",
    "\n",
    "model_download_list_ids.create_download_ui(id_file = \"model_ids_SD15.txt\", \n",
    "                            output_dir = \"/teamspace/studios/this_studio/ComfyUI/models/checkpoints\")\n"
   ]
  }
 ],
 "metadata": {
  "kernelspec": {
   "display_name": "Python 3 (ipykernel)",
   "language": "python",
   "name": "python3"
  },
  "language_info": {
   "codemirror_mode": {
    "name": "ipython",
    "version": 3
   },
   "file_extension": ".py",
   "mimetype": "text/x-python",
   "name": "python",
   "nbconvert_exporter": "python",
   "pygments_lexer": "ipython3",
   "version": "3.12.3"
  }
 },
 "nbformat": 4,
 "nbformat_minor": 5
}
